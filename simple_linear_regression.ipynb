{
 "cells": [
  {
   "cell_type": "code",
   "execution_count": 1,
   "metadata": {
    "collapsed": true
   },
   "outputs": [],
   "source": [
    "import numpy as np\n",
    "import pandas as pd\n",
    "%matplotlib inline\n",
    "import plotly.plotly as py\n",
    "import plotly.graph_objs as go"
   ]
  },
  {
   "cell_type": "code",
   "execution_count": 2,
   "metadata": {},
   "outputs": [
    {
     "data": {
      "text/html": [
       "<div>\n",
       "<style scoped>\n",
       "    .dataframe tbody tr th:only-of-type {\n",
       "        vertical-align: middle;\n",
       "    }\n",
       "\n",
       "    .dataframe tbody tr th {\n",
       "        vertical-align: top;\n",
       "    }\n",
       "\n",
       "    .dataframe thead th {\n",
       "        text-align: right;\n",
       "    }\n",
       "</style>\n",
       "<table border=\"1\" class=\"dataframe\">\n",
       "  <thead>\n",
       "    <tr style=\"text-align: right;\">\n",
       "      <th></th>\n",
       "      <th>Open</th>\n",
       "      <th>High</th>\n",
       "      <th>Low</th>\n",
       "      <th>Close</th>\n",
       "      <th>Volume</th>\n",
       "    </tr>\n",
       "    <tr>\n",
       "      <th>Date</th>\n",
       "      <th></th>\n",
       "      <th></th>\n",
       "      <th></th>\n",
       "      <th></th>\n",
       "      <th></th>\n",
       "    </tr>\n",
       "  </thead>\n",
       "  <tbody>\n",
       "    <tr>\n",
       "      <th>1990-01-07</th>\n",
       "      <td>1.133101</td>\n",
       "      <td>1.148109</td>\n",
       "      <td>1.110589</td>\n",
       "      <td>1.133101</td>\n",
       "      <td>30828000.0</td>\n",
       "    </tr>\n",
       "    <tr>\n",
       "      <th>1990-01-14</th>\n",
       "      <td>1.028045</td>\n",
       "      <td>1.043053</td>\n",
       "      <td>1.013037</td>\n",
       "      <td>1.035549</td>\n",
       "      <td>42974400.0</td>\n",
       "    </tr>\n",
       "    <tr>\n",
       "      <th>1990-01-21</th>\n",
       "      <td>1.013037</td>\n",
       "      <td>1.035549</td>\n",
       "      <td>1.005533</td>\n",
       "      <td>1.028045</td>\n",
       "      <td>66284400.0</td>\n",
       "    </tr>\n",
       "    <tr>\n",
       "      <th>1990-01-28</th>\n",
       "      <td>1.020541</td>\n",
       "      <td>1.020541</td>\n",
       "      <td>0.968013</td>\n",
       "      <td>0.983021</td>\n",
       "      <td>45312400.0</td>\n",
       "    </tr>\n",
       "    <tr>\n",
       "      <th>1990-02-04</th>\n",
       "      <td>0.998029</td>\n",
       "      <td>1.043053</td>\n",
       "      <td>0.998029</td>\n",
       "      <td>1.028045</td>\n",
       "      <td>29618400.0</td>\n",
       "    </tr>\n",
       "  </tbody>\n",
       "</table>\n",
       "</div>"
      ],
      "text/plain": [
       "                Open      High       Low     Close      Volume\n",
       "Date                                                          \n",
       "1990-01-07  1.133101  1.148109  1.110589  1.133101  30828000.0\n",
       "1990-01-14  1.028045  1.043053  1.013037  1.035549  42974400.0\n",
       "1990-01-21  1.013037  1.035549  1.005533  1.028045  66284400.0\n",
       "1990-01-28  1.020541  1.020541  0.968013  0.983021  45312400.0\n",
       "1990-02-04  0.998029  1.043053  0.998029  1.028045  29618400.0"
      ]
     },
     "execution_count": 2,
     "metadata": {},
     "output_type": "execute_result"
    }
   ],
   "source": [
    "data = pd.read_csv('APPL.csv',parse_dates=True, index_col=0)\n",
    "data.head()"
   ]
  },
  {
   "cell_type": "code",
   "execution_count": 3,
   "metadata": {},
   "outputs": [
    {
     "data": {
      "text/plain": [
       "<matplotlib.axes._subplots.AxesSubplot at 0x7f2234c36a90>"
      ]
     },
     "execution_count": 3,
     "metadata": {},
     "output_type": "execute_result"
    },
    {
     "data": {
      "image/png": "[encoded data removed]",
      "text/plain": [
       "<matplotlib.figure.Figure at 0x7f226c8d42e8>"
      ]
     },
     "metadata": {},
     "output_type": "display_data"
    }
   ],
   "source": [
    "data['Close'].plot()"
   ]
  },
  {
   "cell_type": "markdown",
   "metadata": {},
   "source": [
    "## Predicting close for 4 week in future\n",
    "### New Features\n",
    "1. LDHIGH - Last week(4th) High\n",
    "2. LDLOW - Last week(4th) Low\n",
    "3. LDClose - Last week(4th) Close\n",
    "4. LDOpen - Last week(4th) open"
   ]
  },
  {
   "cell_type": "code",
   "execution_count": 4,
   "metadata": {},
   "outputs": [
    {
     "data": {
      "text/html": [
       "<div>\n",
       "<style scoped>\n",
       "    .dataframe tbody tr th:only-of-type {\n",
       "        vertical-align: middle;\n",
       "    }\n",
       "\n",
       "    .dataframe tbody tr th {\n",
       "        vertical-align: top;\n",
       "    }\n",
       "\n",
       "    .dataframe thead th {\n",
       "        text-align: right;\n",
       "    }\n",
       "</style>\n",
       "<table border=\"1\" class=\"dataframe\">\n",
       "  <thead>\n",
       "    <tr style=\"text-align: right;\">\n",
       "      <th></th>\n",
       "      <th>Open</th>\n",
       "      <th>High</th>\n",
       "      <th>Low</th>\n",
       "      <th>Close</th>\n",
       "      <th>Volume</th>\n",
       "      <th>LDHigh</th>\n",
       "      <th>LDLow</th>\n",
       "      <th>LDClose</th>\n",
       "      <th>LDOpen</th>\n",
       "    </tr>\n",
       "    <tr>\n",
       "      <th>Date</th>\n",
       "      <th></th>\n",
       "      <th></th>\n",
       "      <th></th>\n",
       "      <th></th>\n",
       "      <th></th>\n",
       "      <th></th>\n",
       "      <th></th>\n",
       "      <th></th>\n",
       "      <th></th>\n",
       "    </tr>\n",
       "  </thead>\n",
       "  <tbody>\n",
       "    <tr>\n",
       "      <th>1990-01-07</th>\n",
       "      <td>1.133101</td>\n",
       "      <td>1.148109</td>\n",
       "      <td>1.110589</td>\n",
       "      <td>1.133101</td>\n",
       "      <td>30828000.0</td>\n",
       "      <td>NaN</td>\n",
       "      <td>NaN</td>\n",
       "      <td>NaN</td>\n",
       "      <td>NaN</td>\n",
       "    </tr>\n",
       "    <tr>\n",
       "      <th>1990-01-14</th>\n",
       "      <td>1.028045</td>\n",
       "      <td>1.043053</td>\n",
       "      <td>1.013037</td>\n",
       "      <td>1.035549</td>\n",
       "      <td>42974400.0</td>\n",
       "      <td>NaN</td>\n",
       "      <td>NaN</td>\n",
       "      <td>NaN</td>\n",
       "      <td>NaN</td>\n",
       "    </tr>\n",
       "    <tr>\n",
       "      <th>1990-01-21</th>\n",
       "      <td>1.013037</td>\n",
       "      <td>1.035549</td>\n",
       "      <td>1.005533</td>\n",
       "      <td>1.028045</td>\n",
       "      <td>66284400.0</td>\n",
       "      <td>NaN</td>\n",
       "      <td>NaN</td>\n",
       "      <td>NaN</td>\n",
       "      <td>NaN</td>\n",
       "    </tr>\n",
       "    <tr>\n",
       "      <th>1990-01-28</th>\n",
       "      <td>1.020541</td>\n",
       "      <td>1.020541</td>\n",
       "      <td>0.968013</td>\n",
       "      <td>0.983021</td>\n",
       "      <td>45312400.0</td>\n",
       "      <td>NaN</td>\n",
       "      <td>NaN</td>\n",
       "      <td>NaN</td>\n",
       "      <td>NaN</td>\n",
       "    </tr>\n",
       "    <tr>\n",
       "      <th>1990-02-04</th>\n",
       "      <td>0.998029</td>\n",
       "      <td>1.043053</td>\n",
       "      <td>0.998029</td>\n",
       "      <td>1.028045</td>\n",
       "      <td>29618400.0</td>\n",
       "      <td>1.148109</td>\n",
       "      <td>1.110589</td>\n",
       "      <td>1.133101</td>\n",
       "      <td>1.133101</td>\n",
       "    </tr>\n",
       "  </tbody>\n",
       "</table>\n",
       "</div>"
      ],
      "text/plain": [
       "                Open      High       Low     Close      Volume    LDHigh  \\\n",
       "Date                                                                       \n",
       "1990-01-07  1.133101  1.148109  1.110589  1.133101  30828000.0       NaN   \n",
       "1990-01-14  1.028045  1.043053  1.013037  1.035549  42974400.0       NaN   \n",
       "1990-01-21  1.013037  1.035549  1.005533  1.028045  66284400.0       NaN   \n",
       "1990-01-28  1.020541  1.020541  0.968013  0.983021  45312400.0       NaN   \n",
       "1990-02-04  0.998029  1.043053  0.998029  1.028045  29618400.0  1.148109   \n",
       "\n",
       "               LDLow   LDClose    LDOpen  \n",
       "Date                                      \n",
       "1990-01-07       NaN       NaN       NaN  \n",
       "1990-01-14       NaN       NaN       NaN  \n",
       "1990-01-21       NaN       NaN       NaN  \n",
       "1990-01-28       NaN       NaN       NaN  \n",
       "1990-02-04  1.110589  1.133101  1.133101  "
      ]
     },
     "execution_count": 4,
     "metadata": {},
     "output_type": "execute_result"
    }
   ],
   "source": [
    "data['LDHigh'] = data.High.shift(4)\n",
    "data['LDLow'] = data.Low.shift(4)\n",
    "data['LDClose'] = data.Close.shift(4)\n",
    "data['LDOpen'] = data.Open.shift(4)\n",
    "data.head()"
   ]
  },
  {
   "cell_type": "code",
   "execution_count": 5,
   "metadata": {},
   "outputs": [],
   "source": [
    "from sklearn.model_selection import train_test_split\n",
    "data.dropna(inplace=True)\n",
    "X = data[['LDHigh','LDLow','LDClose','LDOpen']]\n",
    "Y = data.Close\n",
    "X_train,X_val,Y_train,Y_val = train_test_split(X,Y,test_size=0.3,shuffle=False)"
   ]
  },
  {
   "cell_type": "code",
   "execution_count": 6,
   "metadata": {},
   "outputs": [
    {
     "data": {
      "text/plain": [
       "LinearRegression(copy_X=True, fit_intercept=True, n_jobs=1, normalize=False)"
      ]
     },
     "execution_count": 6,
     "metadata": {},
     "output_type": "execute_result"
    }
   ],
   "source": [
    "from sklearn.linear_model import LinearRegression\n",
    "lr = LinearRegression()\n",
    "lr.fit(X_train,Y_train)"
   ]
  },
  {
   "cell_type": "code",
   "execution_count": 7,
   "metadata": {},
   "outputs": [
    {
     "name": "stdout",
     "output_type": "stream",
     "text": [
      "High five! You successfully sent some data to your account on plotly. View your plot in your browser at https://plot.ly/~adityajn105/0 or inside your plot.ly account where it is named 'our predictions'\n"
     ]
    },
    {
     "data": {
      "text/html": [
       "<iframe id=\"igraph\" scrolling=\"no\" style=\"border:none;\" seamless=\"seamless\" src=\"https://plot.ly/~adityajn105/0.embed\" height=\"525px\" width=\"100%\"></iframe>"
      ],
      "text/plain": [
       "<chart_studio.tools.PlotlyDisplay object>"
      ]
     },
     "execution_count": 7,
     "metadata": {},
     "output_type": "execute_result"
    }
   ],
   "source": [
    "original = go.Scatter(\n",
    "    x = X_val.index,\n",
    "    y = Y_val\n",
    ")\n",
    "\n",
    "predicted = go.Scatter(\n",
    "    x = X_val.index,\n",
    "    y = lr.predict(X_val)\n",
    ")\n",
    "\n",
    "data = [original,predicted]\n",
    "py.iplot(data, filename='our predictions')"
   ]
  },
  {
   "cell_type": "code",
   "execution_count": 8,
   "metadata": {},
   "outputs": [
    {
     "name": "stdout",
     "output_type": "stream",
     "text": [
      "Mean Absolute Error :4.523417350443624\n",
      "R Square : 0.9758884002745997\n"
     ]
    }
   ],
   "source": [
    "from sklearn.metrics import mean_absolute_error,r2_score\n",
    "print(\"Mean Absolute Error :{}\".format(mean_absolute_error(lr.predict(X_val),Y_val)))\n",
    "print(\"R Square : {}\".format(r2_score(Y_val,lr.predict(X_val))))"
   ]
  },
  {
   "cell_type": "code",
   "execution_count": null,
   "metadata": {
    "collapsed": true
   },
   "outputs": [],
   "source": []
  }
 ],
 "metadata": {
  "kernelspec": {
   "display_name": "Python 3",
   "language": "python",
   "name": "python3"
  },
  "language_info": {
   "codemirror_mode": {
    "name": "ipython",
    "version": 3
   },
   "file_extension": ".py",
   "mimetype": "text/x-python",
   "name": "python",
   "nbconvert_exporter": "python",
   "pygments_lexer": "ipython3",
   "version": "3.6.3"
  }
 },
 "nbformat": 4,
 "nbformat_minor": 2
}
