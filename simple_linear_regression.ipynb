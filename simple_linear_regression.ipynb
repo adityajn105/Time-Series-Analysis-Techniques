{
 "cells": [
  {
   "cell_type": "code",
   "execution_count": 1,
   "metadata": {},
   "outputs": [],
   "source": [
    "import numpy as np\n",
    "import pandas as pd\n",
    "\n",
    "import plotly.plotly as py\n",
    "import plotly.graph_objs as go"
   ]
  },
  {
   "cell_type": "code",
   "execution_count": 2,
   "metadata": {},
   "outputs": [
    {
     "data": {
      "text/html": [
       "<div>\n",
       "<style scoped>\n",
       "    .dataframe tbody tr th:only-of-type {\n",
       "        vertical-align: middle;\n",
       "    }\n",
       "\n",
       "    .dataframe tbody tr th {\n",
       "        vertical-align: top;\n",
       "    }\n",
       "\n",
       "    .dataframe thead th {\n",
       "        text-align: right;\n",
       "    }\n",
       "</style>\n",
       "<table border=\"1\" class=\"dataframe\">\n",
       "  <thead>\n",
       "    <tr style=\"text-align: right;\">\n",
       "      <th></th>\n",
       "      <th>Open</th>\n",
       "      <th>High</th>\n",
       "      <th>Low</th>\n",
       "      <th>Close</th>\n",
       "      <th>Volume</th>\n",
       "    </tr>\n",
       "    <tr>\n",
       "      <th>Date</th>\n",
       "      <th></th>\n",
       "      <th></th>\n",
       "      <th></th>\n",
       "      <th></th>\n",
       "      <th></th>\n",
       "    </tr>\n",
       "  </thead>\n",
       "  <tbody>\n",
       "    <tr>\n",
       "      <th>2001-01-02</th>\n",
       "      <td>0.956144</td>\n",
       "      <td>0.979919</td>\n",
       "      <td>0.935581</td>\n",
       "      <td>0.956144</td>\n",
       "      <td>113078000.0</td>\n",
       "    </tr>\n",
       "    <tr>\n",
       "      <th>2001-01-03</th>\n",
       "      <td>0.931726</td>\n",
       "      <td>1.072449</td>\n",
       "      <td>0.927871</td>\n",
       "      <td>1.051887</td>\n",
       "      <td>204268400.0</td>\n",
       "    </tr>\n",
       "    <tr>\n",
       "      <th>2001-01-04</th>\n",
       "      <td>1.165621</td>\n",
       "      <td>1.188754</td>\n",
       "      <td>1.080160</td>\n",
       "      <td>1.096224</td>\n",
       "      <td>184849000.0</td>\n",
       "    </tr>\n",
       "    <tr>\n",
       "      <th>2001-01-05</th>\n",
       "      <td>1.088513</td>\n",
       "      <td>1.116144</td>\n",
       "      <td>1.031967</td>\n",
       "      <td>1.051887</td>\n",
       "      <td>103089000.0</td>\n",
       "    </tr>\n",
       "    <tr>\n",
       "      <th>2001-01-08</th>\n",
       "      <td>1.088513</td>\n",
       "      <td>1.091083</td>\n",
       "      <td>1.024256</td>\n",
       "      <td>1.064095</td>\n",
       "      <td>93424800.0</td>\n",
       "    </tr>\n",
       "  </tbody>\n",
       "</table>\n",
       "</div>"
      ],
      "text/plain": [
       "                Open      High       Low     Close       Volume\n",
       "Date                                                           \n",
       "2001-01-02  0.956144  0.979919  0.935581  0.956144  113078000.0\n",
       "2001-01-03  0.931726  1.072449  0.927871  1.051887  204268400.0\n",
       "2001-01-04  1.165621  1.188754  1.080160  1.096224  184849000.0\n",
       "2001-01-05  1.088513  1.116144  1.031967  1.051887  103089000.0\n",
       "2001-01-08  1.088513  1.091083  1.024256  1.064095   93424800.0"
      ]
     },
     "execution_count": 2,
     "metadata": {},
     "output_type": "execute_result"
    }
   ],
   "source": [
    "data = pd.read_csv('APPL.csv',parse_dates=True, index_col=0)\n",
    "data.head()"
   ]
  },
  {
   "cell_type": "code",
   "execution_count": 3,
   "metadata": {},
   "outputs": [
    {
     "data": {
      "text/plain": [
       "<matplotlib.axes._subplots.AxesSubplot at 0x7f2268d057b8>"
      ]
     },
     "execution_count": 3,
     "metadata": {},
     "output_type": "execute_result"
    }
   ],
   "source": [
    "data['Close'].plot()"
   ]
  },
  {
   "cell_type": "markdown",
   "metadata": {},
   "source": [
    "## Predicting close for 100 day in future\n",
    "### New Features\n",
    "1. LDHIGH - Last day(100th) High\n",
    "2. LDLOW - Last day(100th) Low\n",
    "3. LDClose - Last day(100th) Close\n",
    "4. LDOpen - Last day(100th) open"
   ]
  },
  {
   "cell_type": "code",
   "execution_count": 4,
   "metadata": {},
   "outputs": [
    {
     "data": {
      "text/html": [
       "<div>\n",
       "<style scoped>\n",
       "    .dataframe tbody tr th:only-of-type {\n",
       "        vertical-align: middle;\n",
       "    }\n",
       "\n",
       "    .dataframe tbody tr th {\n",
       "        vertical-align: top;\n",
       "    }\n",
       "\n",
       "    .dataframe thead th {\n",
       "        text-align: right;\n",
       "    }\n",
       "</style>\n",
       "<table border=\"1\" class=\"dataframe\">\n",
       "  <thead>\n",
       "    <tr style=\"text-align: right;\">\n",
       "      <th></th>\n",
       "      <th>Open</th>\n",
       "      <th>High</th>\n",
       "      <th>Low</th>\n",
       "      <th>Close</th>\n",
       "      <th>Volume</th>\n",
       "      <th>LDHigh</th>\n",
       "      <th>LDLow</th>\n",
       "      <th>LDClose</th>\n",
       "      <th>LDOpen</th>\n",
       "    </tr>\n",
       "    <tr>\n",
       "      <th>Date</th>\n",
       "      <th></th>\n",
       "      <th></th>\n",
       "      <th></th>\n",
       "      <th></th>\n",
       "      <th></th>\n",
       "      <th></th>\n",
       "      <th></th>\n",
       "      <th></th>\n",
       "      <th></th>\n",
       "    </tr>\n",
       "  </thead>\n",
       "  <tbody>\n",
       "    <tr>\n",
       "      <th>2001-01-02</th>\n",
       "      <td>0.956144</td>\n",
       "      <td>0.979919</td>\n",
       "      <td>0.935581</td>\n",
       "      <td>0.956144</td>\n",
       "      <td>113078000.0</td>\n",
       "      <td>NaN</td>\n",
       "      <td>NaN</td>\n",
       "      <td>NaN</td>\n",
       "      <td>NaN</td>\n",
       "    </tr>\n",
       "    <tr>\n",
       "      <th>2001-01-03</th>\n",
       "      <td>0.931726</td>\n",
       "      <td>1.072449</td>\n",
       "      <td>0.927871</td>\n",
       "      <td>1.051887</td>\n",
       "      <td>204268400.0</td>\n",
       "      <td>NaN</td>\n",
       "      <td>NaN</td>\n",
       "      <td>NaN</td>\n",
       "      <td>NaN</td>\n",
       "    </tr>\n",
       "    <tr>\n",
       "      <th>2001-01-04</th>\n",
       "      <td>1.165621</td>\n",
       "      <td>1.188754</td>\n",
       "      <td>1.080160</td>\n",
       "      <td>1.096224</td>\n",
       "      <td>184849000.0</td>\n",
       "      <td>NaN</td>\n",
       "      <td>NaN</td>\n",
       "      <td>NaN</td>\n",
       "      <td>NaN</td>\n",
       "    </tr>\n",
       "    <tr>\n",
       "      <th>2001-01-05</th>\n",
       "      <td>1.088513</td>\n",
       "      <td>1.116144</td>\n",
       "      <td>1.031967</td>\n",
       "      <td>1.051887</td>\n",
       "      <td>103089000.0</td>\n",
       "      <td>NaN</td>\n",
       "      <td>NaN</td>\n",
       "      <td>NaN</td>\n",
       "      <td>NaN</td>\n",
       "    </tr>\n",
       "    <tr>\n",
       "      <th>2001-01-08</th>\n",
       "      <td>1.088513</td>\n",
       "      <td>1.091083</td>\n",
       "      <td>1.024256</td>\n",
       "      <td>1.064095</td>\n",
       "      <td>93424800.0</td>\n",
       "      <td>NaN</td>\n",
       "      <td>NaN</td>\n",
       "      <td>NaN</td>\n",
       "      <td>NaN</td>\n",
       "    </tr>\n",
       "  </tbody>\n",
       "</table>\n",
       "</div>"
      ],
      "text/plain": [
       "                Open      High       Low     Close       Volume  LDHigh  \\\n",
       "Date                                                                      \n",
       "2001-01-02  0.956144  0.979919  0.935581  0.956144  113078000.0     NaN   \n",
       "2001-01-03  0.931726  1.072449  0.927871  1.051887  204268400.0     NaN   \n",
       "2001-01-04  1.165621  1.188754  1.080160  1.096224  184849000.0     NaN   \n",
       "2001-01-05  1.088513  1.116144  1.031967  1.051887  103089000.0     NaN   \n",
       "2001-01-08  1.088513  1.091083  1.024256  1.064095   93424800.0     NaN   \n",
       "\n",
       "            LDLow  LDClose  LDOpen  \n",
       "Date                                \n",
       "2001-01-02    NaN      NaN     NaN  \n",
       "2001-01-03    NaN      NaN     NaN  \n",
       "2001-01-04    NaN      NaN     NaN  \n",
       "2001-01-05    NaN      NaN     NaN  \n",
       "2001-01-08    NaN      NaN     NaN  "
      ]
     },
     "execution_count": 4,
     "metadata": {},
     "output_type": "execute_result"
    }
   ],
   "source": [
    "data['LDHigh'] = data.High.shift(1)\n",
    "data['LDLow'] = data.Low.shift(1)\n",
    "data['LDClose'] = data.Close.shift(1)\n",
    "data['LDOpen'] = data.Open.shift(1)\n",
    "data.head()"
   ]
  },
  {
   "cell_type": "code",
   "execution_count": 5,
   "metadata": {},
   "outputs": [],
   "source": [
    "from sklearn.model_selection import train_test_split\n",
    "data.dropna(inplace=True)\n",
    "X = data[['LDHigh','LDLow','LDClose','LDOpen']]\n",
    "Y = data.Close\n",
    "X_train,X_val,Y_train,Y_val = train_test_split(X,Y,test_size=0.3,shuffle=False)"
   ]
  },
  {
   "cell_type": "code",
   "execution_count": 6,
   "metadata": {},
   "outputs": [
    {
     "data": {
      "text/plain": [
       "LinearRegression(copy_X=True, fit_intercept=True, n_jobs=1, normalize=False)"
      ]
     },
     "execution_count": 6,
     "metadata": {},
     "output_type": "execute_result"
    }
   ],
   "source": [
    "from sklearn.linear_model import LinearRegression\n",
    "lr = LinearRegression()\n",
    "lr.fit(X_train,Y_train)"
   ]
  },
  {
   "cell_type": "code",
   "execution_count": 7,
   "metadata": {},
   "outputs": [
    {
     "name": "stdout",
     "output_type": "stream",
     "text": [
      "High five! You successfully sent some data to your account on plotly. View your plot in your browser at https://plot.ly/~adityajn105/0 or inside your plot.ly account where it is named 'our predictions'\n"
     ]
    },
    {
     "data": {
      "text/html": [
       "<iframe id=\"igraph\" scrolling=\"no\" style=\"border:none;\" seamless=\"seamless\" src=\"https://plot.ly/~adityajn105/0.embed\" height=\"525px\" width=\"100%\"></iframe>"
      ],
      "text/plain": [
       "<chart_studio.tools.PlotlyDisplay object>"
      ]
     },
     "execution_count": 7,
     "metadata": {},
     "output_type": "execute_result"
    }
   ],
   "source": [
    "original = go.Scatter(\n",
    "    x = X_val.index,\n",
    "    y = Y_val\n",
    ")\n",
    "\n",
    "predicted = go.Scatter(\n",
    "    x = X_val.index,\n",
    "    y = lr.predict(X_val)\n",
    ")\n",
    "\n",
    "data = [original,predicted]\n",
    "py.iplot(data, filename='our predictions')"
   ]
  },
  {
   "cell_type": "code",
   "execution_count": 8,
   "metadata": {},
   "outputs": [
    {
     "name": "stdout",
     "output_type": "stream",
     "text": [
      "Mean Absolute Error :12.395376891566698\n",
      "R Square : 0.8038511788951702\n"
     ]
    }
   ],
   "source": [
    "from sklearn.metrics import mean_absolute_error,r2_score\n",
    "print(\"Mean Absolute Error :{}\".format(mean_absolute_error(lr.predict(X_val),Y_val)))\n",
    "print(\"R Square : {}\".format(r2_score(Y_val,lr.predict(X_val))))"
   ]
  },
  {
   "cell_type": "code",
   "execution_count": null,
   "metadata": {
    "collapsed": true
   },
   "outputs": [],
   "source": []
  }
 ],
 "metadata": {
  "kernelspec": {
   "display_name": "Python 3",
   "language": "python",
   "name": "python3"
  },
  "language_info": {
   "codemirror_mode": {
    "name": "ipython",
    "version": 3
   },
   "file_extension": ".py",
   "mimetype": "text/x-python",
   "name": "python",
   "nbconvert_exporter": "python",
   "pygments_lexer": "ipython3",
   "version": "3.6.3"
  }
 },
 "nbformat": 4,
 "nbformat_minor": 2
}
