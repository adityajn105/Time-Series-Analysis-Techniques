{
 "cells": [
  {
   "cell_type": "code",
   "execution_count": 1,
   "metadata": {
    "collapsed": true
   },
   "outputs": [],
   "source": [
    "import numpy as np\n",
    "import pandas as pd\n",
    "\n",
    "%matplotlib inline\n",
    "import matplotlib.pyplot as plt\n",
    "import plotly.plotly as py\n",
    "import plotly.graph_objs as go\n",
    "\n",
    "plotly = False"
   ]
  },
  {
   "cell_type": "code",
   "execution_count": null,
   "metadata": {},
   "outputs": [
    {
     "data": {
      "text/plain": [
       "Date\n",
       "2018-03-04    176.21\n",
       "2018-03-11    179.98\n",
       "2018-03-18    178.02\n",
       "2018-03-25    164.94\n",
       "2018-04-01    168.34\n",
       "Name: Close, dtype: float64"
      ]
     },
     "execution_count": 2,
     "metadata": {},
     "output_type": "execute_result"
    }
   ],
   "source": [
    "data = pd.read_csv('APPL.csv',parse_dates=True, index_col=0)\n",
    "series = data.Close\n",
    "series.tail()"
   ]
  },
  {
   "cell_type": "code",
   "execution_count": null,
   "metadata": {},
   "outputs": [
    {
     "data": {
      "text/plain": [
       "<matplotlib.axes._subplots.AxesSubplot at 0x7f4436092c50>"
      ]
     },
     "execution_count": 3,
     "metadata": {},
     "output_type": "execute_result"
    }
   ],
   "source": [
    "plt.figure(figsize=(18,5))\n",
    "series.plot(label=\"Actual\",legend=True)"
   ]
  },
  {
   "cell_type": "code",
   "execution_count": null,
   "metadata": {
    "collapsed": true
   },
   "outputs": [],
   "source": [
    "import math\n",
    "last = data.shape[0]-math.ceil(.2*(data.shape[0]))"
   ]
  },
  {
   "cell_type": "markdown",
   "metadata": {},
   "source": [
    "### AutoRegression"
   ]
  },
  {
   "cell_type": "code",
   "execution_count": null,
   "metadata": {},
   "outputs": [],
   "source": [
    "from statsmodels.tsa.ar_model import AR\n",
    "ar  = AR(series,series.index,freq='W')\n",
    "ar = ar.fit()\n",
    "ar.k_ar"
   ]
  },
  {
   "cell_type": "code",
   "execution_count": null,
   "metadata": {},
   "outputs": [],
   "source": [
    "org = series[last:]\n",
    "pred = ar.predict(start=series.index[last],end=series.index[-1])\n",
    "if plotly:\n",
    "    original = go.Scatter( x = org.index, y = org, name = \"Actual\", line=dict( color='green'))\n",
    "    predicted = go.Scatter( x = pred.index, y = pred, name = \"AR\", line=dict( color='blue'))\n",
    "    plots = [original,predicted]\n",
    "    py.iplot(plots, filename='our predictions')\n",
    "else:\n",
    "    plt.figure(figsize=(18,5))\n",
    "    plt.plot(org.index,org,'g',label=\"Actual\",)\n",
    "    plt.plot(pred.index,pred,'b',label=\"AR\")\n",
    "    plt.legend()"
   ]
  },
  {
   "cell_type": "code",
   "execution_count": null,
   "metadata": {},
   "outputs": [],
   "source": [
    "from sklearn.metrics import mean_absolute_error,r2_score\n",
    "print(\"Mean Absolute Error :{}\".format(mean_absolute_error(pred,org)))\n",
    "print(\"R Square : {}\".format(r2_score(pred,org)))"
   ]
  },
  {
   "cell_type": "code",
   "execution_count": null,
   "metadata": {
    "collapsed": true
   },
   "outputs": [],
   "source": []
  }
 ],
 "metadata": {
  "kernelspec": {
   "display_name": "Python 3",
   "language": "python",
   "name": "python3"
  },
  "language_info": {
   "codemirror_mode": {
    "name": "ipython",
    "version": 3
   },
   "file_extension": ".py",
   "mimetype": "text/x-python",
   "name": "python",
   "nbconvert_exporter": "python",
   "pygments_lexer": "ipython3",
   "version": "3.6.3"
  }
 },
 "nbformat": 4,
 "nbformat_minor": 2
}
